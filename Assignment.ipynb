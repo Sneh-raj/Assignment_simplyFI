{
 "cells": [
  {
   "cell_type": "markdown",
   "metadata": {
    "id": "v6TGy1uzLPOR"
   },
   "source": [
    "# PROBLEM 1."
   ]
  },
  {
   "cell_type": "code",
   "execution_count": 15,
   "metadata": {
    "id": "r3vwyVzjGLGf"
   },
   "outputs": [],
   "source": [
    "# Here is the code for converting integer values to Indian currency notations, without using the currency libraries"
   ]
  },
  {
   "cell_type": "code",
   "execution_count": 5,
   "metadata": {
    "id": "7xjuAYiBBWrn"
   },
   "outputs": [],
   "source": [
    "import numpy as np"
   ]
  },
  {
   "cell_type": "code",
   "execution_count": 2,
   "metadata": {
    "id": "ABUvR5RFBfOO"
   },
   "outputs": [],
   "source": [
    "import pandas as pd"
   ]
  },
  {
   "cell_type": "code",
   "execution_count": 3,
   "metadata": {
    "id": "OjDY30mbBzeQ"
   },
   "outputs": [],
   "source": [
    "# Function for converting the Indian currency\n",
    "\n",
    "def To_Convert_To_Indian_Currency(Number):\n",
    "  Num = str(Number) # to convert the number to string\n",
    "\n",
    "\n",
    "# In Indian curreny to count avove 1000 to one crore rps we using seperated the number after every three digits.\n",
    "  if len(Num) >= 3:\n",
    "    Last_three_no = Num[-3:] # here we are seperating the last three digits from the number given\n",
    "    Other_num = Num[:-3] #  here we are seperating the other  digits  apart from last three digits from the number given\n",
    "\n",
    "    Other_number = Other_num[::-1] # here we are reversing the numbers\n",
    "\n",
    "    Final_num = [Other_number[i:i+2] for i in range (0, len(Other_number), 2)] # here we are inserting the comma after every two digit apart from last three digit\n",
    "\n",
    "    For_comma = ','.join(Final_num)[::-1] + ',' + Last_three_no # Finally combining all the digits and adding comma also\n",
    "\n",
    "  else:\n",
    "    For_comma = Num # If the Number given were less three digits then the Number will be returned as it is\n",
    "\n",
    "  return For_comma"
   ]
  },
  {
   "cell_type": "code",
   "execution_count": 9,
   "metadata": {
    "id": "76m7jDAhFsDJ"
   },
   "outputs": [],
   "source": [
    "# Example usage :\n",
    "\n",
    "Number = 960635699643\n",
    "Output = To_Convert_To_Indian_Currency(Number)\n",
    "\n"
   ]
  },
  {
   "cell_type": "code",
   "execution_count": 10,
   "metadata": {
    "colab": {
     "base_uri": "https://localhost:8080/"
    },
    "id": "j7CZtyz9F2J_",
    "outputId": "9ae2638f-f071-4c7d-a964-b83be6c2dfc0"
   },
   "outputs": [
    {
     "name": "stdout",
     "output_type": "stream",
     "text": [
      "9,60,63,56,99,643\n"
     ]
    }
   ],
   "source": [
    "print(Output)"
   ]
  },
  {
   "cell_type": "code",
   "execution_count": 12,
   "metadata": {
    "colab": {
     "base_uri": "https://localhost:8080/"
    },
    "id": "Y2AgELBWJIbk",
    "outputId": "e88e01b9-6638-427c-ceca-40a4f978ccf8"
   },
   "outputs": [
    {
     "name": "stdout",
     "output_type": "stream",
     "text": [
      "68,70,06,44,78,847\n"
     ]
    }
   ],
   "source": [
    "Number = 6870064478847\n",
    "Output = To_Convert_To_Indian_Currency(Number)\n",
    "print(Output)"
   ]
  },
  {
   "cell_type": "code",
   "execution_count": 14,
   "metadata": {
    "colab": {
     "base_uri": "https://localhost:8080/"
    },
    "id": "nE55ka3YJP0J",
    "outputId": "fd993ca9-4d1a-4609-a6ef-3e127b3a5ea4"
   },
   "outputs": [
    {
     "name": "stdout",
     "output_type": "stream",
     "text": [
      "64\n"
     ]
    }
   ],
   "source": [
    "# here is the example if the number is less than 3 then it will be returned as it is.\n",
    "\n",
    "Number = 64\n",
    "Output = To_Convert_To_Indian_Currency(Number)\n",
    "print(Output)"
   ]
  },
  {
   "cell_type": "code",
   "execution_count": null,
   "metadata": {
    "id": "Iorw3tKkJWQy"
   },
   "outputs": [],
   "source": []
  },
  {
   "cell_type": "code",
   "execution_count": null,
   "metadata": {
    "id": "wmRvlakFLL9q"
   },
   "outputs": [],
   "source": []
  },
  {
   "cell_type": "markdown",
   "metadata": {
    "id": "diOe809TLVja"
   },
   "source": [
    "# PROBLEM 2."
   ]
  },
  {
   "cell_type": "code",
   "execution_count": 16,
   "metadata": {
    "id": "PuXSflEDLL6P"
   },
   "outputs": [],
   "source": [
    "# Here the problem os to find minimum no. of players required to shot so that  Ali is visible in Gi-Hun's line of sight."
   ]
  },
  {
   "cell_type": "code",
   "execution_count": 17,
   "metadata": {
    "id": "qUOPPH7aLL04"
   },
   "outputs": [],
   "source": [
    "# Here is the function that will help to get the no. of players shot for Ali to be visible\n",
    "\n",
    "def Numbers_Of_Players_Shot(T,Test_Case): # here T is the no of test_case provided and test_case id the sample provided\n",
    "  Result = []  # To get the result stored\n",
    "  for i in range(T):\n",
    "      N,K = Test_Case[i][0]  # Here N is the no of the players and K is the height of the players\n",
    "      Height = Test_Case[i][1]\n",
    "\n",
    "\n",
    "      Num_Players = sum(1 for h in Height if h > K) # To get the no of players above height then ALi\n",
    "      Result.append(Num_Players)\n",
    "\n",
    "  return Result\n",
    "\n"
   ]
  },
  {
   "cell_type": "code",
   "execution_count": 31,
   "metadata": {
    "id": "zfsxKZbALLx9"
   },
   "outputs": [],
   "source": [
    "# In this Example  I have used two test cases\n",
    "\n",
    "T = 2\n",
    "Test_Case = [[(3, 6), [2, 5, 8, 9 ,12 ,15 ,3]], [(5, 8), [9, 6, 3, 4, 10, 15 ,12, 2, 1]]]"
   ]
  },
  {
   "cell_type": "code",
   "execution_count": 32,
   "metadata": {
    "id": "StLzyg0NLLvN"
   },
   "outputs": [],
   "source": [
    "Result = Numbers_Of_Players_Shot(T,Test_Case)"
   ]
  },
  {
   "cell_type": "code",
   "execution_count": 33,
   "metadata": {
    "colab": {
     "base_uri": "https://localhost:8080/"
    },
    "id": "x5qSJiUqLLst",
    "outputId": "8a96de83-a53f-4ec9-ae62-cf05c4f8f358"
   },
   "outputs": [
    {
     "name": "stdout",
     "output_type": "stream",
     "text": [
      "[4, 4]\n"
     ]
    }
   ],
   "source": [
    "print(Result)"
   ]
  },
  {
   "cell_type": "markdown",
   "metadata": {
    "id": "PHvOwrozTYai"
   },
   "source": [
    "# For the above test_case Two examples were taken in which there were 4 players needs to be shot for the first example and for the second example also 4 players were required to shot."
   ]
  },
  {
   "cell_type": "code",
   "execution_count": null,
   "metadata": {
    "id": "1Q7k_HaZTW9W"
   },
   "outputs": [],
   "source": []
  },
  {
   "cell_type": "code",
   "execution_count": 27,
   "metadata": {
    "id": "1LhnCONqLLp7"
   },
   "outputs": [],
   "source": [
    "# In this Example  I have used four test cases\n",
    "\n",
    "T = 4\n",
    "\n",
    "Test_Case = [[(4, 8), [2, 11, 4, 16, 9, 8, 12]], [(5, 6), [9, 3, 6, 10, 4, 5, 8]], [(2, 6), [1, 2, 3, 4, 8]], [(3, 5), [2, 5, 12, 13, 18, 22]] ]"
   ]
  },
  {
   "cell_type": "code",
   "execution_count": 28,
   "metadata": {
    "id": "xE5To7dpRGl4"
   },
   "outputs": [],
   "source": [
    "Result = Numbers_Of_Players_Shot(T,Test_Case)"
   ]
  },
  {
   "cell_type": "code",
   "execution_count": 29,
   "metadata": {
    "colab": {
     "base_uri": "https://localhost:8080/"
    },
    "id": "eI_7Gcn6RWxR",
    "outputId": "9f4f4a2e-da79-458c-b23c-f7c7addf2548"
   },
   "outputs": [
    {
     "name": "stdout",
     "output_type": "stream",
     "text": [
      "[4, 3, 1, 4]\n"
     ]
    }
   ],
   "source": [
    "print(Result)"
   ]
  },
  {
   "cell_type": "markdown",
   "metadata": {
    "id": "hvSTRBo_T47T"
   },
   "source": [
    "# In this test case four example were taken in which for the first and fourth example there were 4 players required to shot and for second one there were 3 players and for the third one there were 1 player required to shot"
   ]
  },
  {
   "cell_type": "code",
   "execution_count": null,
   "metadata": {
    "id": "jawsBEZ9Svo5"
   },
   "outputs": [],
   "source": []
  }
 ],
 "metadata": {
  "accelerator": "GPU",
  "colab": {
   "gpuType": "T4",
   "provenance": []
  },
  "kernelspec": {
   "display_name": "Python 3 (ipykernel)",
   "language": "python",
   "name": "python3"
  },
  "language_info": {
   "codemirror_mode": {
    "name": "ipython",
    "version": 3
   },
   "file_extension": ".py",
   "mimetype": "text/x-python",
   "name": "python",
   "nbconvert_exporter": "python",
   "pygments_lexer": "ipython3",
   "version": "3.10.14"
  }
 },
 "nbformat": 4,
 "nbformat_minor": 4
}
